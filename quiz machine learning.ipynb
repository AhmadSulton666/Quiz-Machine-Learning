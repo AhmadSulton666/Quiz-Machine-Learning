{
 "cells": [
  {
   "cell_type": "code",
   "execution_count": null,
   "metadata": {},
   "outputs": [],
   "source": [
    "# Mengimport library yang diperlukan untuk proses pengerjaan\n",
    "%matplotlib inline\n",
    "import pandas as pd\n",
    "import numpy as np\n",
    "import seaborn as sns\n",
    "import matplotlib.pyplot as plt\n",
    "from sklearn.model_selection import train_test_split, cross_val_score\n",
    "from sklearn.preprocessing import StandardScaler, LabelEncoder\n",
    "from sklearn.linear_model import LogisticRegression\n",
    "from sklearn.ensemble import RandomForestClassifier\n",
    "from sklearn.svm import SVC\n",
    "from sklearn.metrics import accuracy_score, precision_score, recall_score, f1_score, confusion_matrix, classification_report\n",
    "from google.colab import drive\n"
   ]
  },
  {
   "cell_type": "code",
   "execution_count": null,
   "metadata": {},
   "outputs": [],
   "source": [
    "drive.mount('/drive')\n",
    "fileScores = '/drive/MyDrive/ml_quiz/scores.csv'\n",
    "scores = pd.read_csv(fileScores)\n",
    "\n",
    "drive.mount('/drive')\n",
    "fileKondisi = '/drive/MyDrive/ml_quiz/kondisi.csv'\n",
    "kondisi = pd.read_csv(fileKondisi)\n",
    "\n",
    "drive.mount('/drive')\n",
    "fileControl = '/drive/MyDrive/ml_quiz/control.csv'\n",
    "control = pd.read_csv(fileControl)"
   ]
  },
  {
   "cell_type": "code",
   "execution_count": null,
   "metadata": {},
   "outputs": [],
   "source": [
    "# Pemrosesan Awal Data\n",
    "\n",
    "scores.shape\n",
    "kondisi.shape\n",
    "control.shape"
   ]
  },
  {
   "cell_type": "code",
   "execution_count": null,
   "metadata": {},
   "outputs": [],
   "source": [
    "# Mengasumsikan depresi_status sebagai kolom target\n",
    "target_column = 'depression_status'"
   ]
  },
  {
   "cell_type": "code",
   "execution_count": null,
   "metadata": {},
   "outputs": [],
   "source": [
    "df = pd.concat([scores, kondisi, control])\n",
    "df.columns"
   ]
  },
  {
   "cell_type": "code",
   "execution_count": null,
   "metadata": {},
   "outputs": [],
   "source": [
    "# Mengeliminasi data\n",
    "import re\n",
    "import string\n",
    "\n",
    "def optional(text):\n",
    "  text = text.lower()\n",
    "  text = re.sub('\\[.*?\\]', '', text)\n",
    "  text = re.sub('\\W', \" \", text)\n",
    "  text = re.sub('https?://\\S+|www\\.\\S+', '', text)\n",
    "  text = re.sub('<.*?>+', '', text)\n",
    "  text = re.sub('[%s]' % re.escape(string.punctuation), '', text)\n",
    "  text = re.sub('\\n', '', text)\n",
    "  text = re.sub('\\w*\\d\\w*', '', text)\n",
    "  return text"
   ]
  },
  {
   "cell_type": "code",
   "execution_count": null,
   "metadata": {},
   "outputs": [],
   "source": [
    "# Menangani nilai yang hilang\n",
    "scores = scores.dropna()\n",
    "\n",
    "kondisi = kondisi.dropna()\n",
    "\n",
    "control = control.dropna()"
   ]
  },
  {
   "cell_type": "code",
   "execution_count": null,
   "metadata": {},
   "outputs": [],
   "source": [
    "# Pengkodean variable kategori\n",
    "le = LabelEncoder()\n",
    "for column in scores.select_dtypes(include=['object']).columns:\n",
    "    scores[column] = le.fit_transform(scores[column])\n",
    "\n",
    "for column in kondisi.select_dtypes(include=['object']).columns:\n",
    "    kondisi[column] = le.fit_transform(kondisi[column])\n"
   ]
  },
  {
   "cell_type": "code",
   "execution_count": null,
   "metadata": {},
   "outputs": [],
   "source": [
    "# Penskalaan fitur\n",
    "scaler = StandardScaler()"
   ]
  },
  {
   "cell_type": "code",
   "execution_count": null,
   "metadata": {},
   "outputs": [],
   "source": [
    "# Memeriksa apakah kolom 'depresi_status' ada sebelum dihapus\n",
    "if 'depression_status' in scores.columns:\n",
    "    scaled_features = scaler.fit_transform(scores.drop('depression_status', axis=1))\n",
    "    scores_scaled = pd.DataFrame(scaled_features, columns=scores.columns[:-1])\n",
    "    scores_scaled['depression_status'] = scores['depression_status']\n",
    "\n",
    "if 'depression_status' in scores.columns:\n",
    "    scaled_features = scaler.fit_transform(kondisi.drop('depression_status', axis=1))\n",
    "    kondisi_scaled = pd.DataFrame(scaled_features, columns=scores.columns[:-1])\n",
    "    kondisi_scaled['depression_status'] = kondisi['depression_status']\n",
    "\n",
    "if 'depression_status' in scores.columns:\n",
    "    scaled_features = scaler.fit_transform(control.drop('depression_status', axis=1))\n",
    "    control_scaled = pd.DataFrame(scaled_features, columns=scores.columns[:-1])\n",
    "    control_scaled['depression_status'] = control['depression_status']\n",
    "\n",
    "else:\n",
    "    print(\"Column 'depression_status' not found in DataFrame.\")\n",
    "\n"
   ]
  },
  {
   "cell_type": "code",
   "execution_count": null,
   "metadata": {},
   "outputs": [],
   "source": [
    "# Exploratory Data Analysis (EDA)\n",
    "\n",
    "# Print the column names of df to verify the available columns\n",
    "print(scores.columns)\n",
    "\n",
    "print(kondisi.columns)"
   ]
  },
  {
   "cell_type": "code",
   "execution_count": null,
   "metadata": {},
   "outputs": [],
   "source": [
    "# Correlation heatmap\n",
    "plt.figure(figsize=(12, 8))\n",
    "sns.heatmap(scores.corr(), annot=True, cmap='coolwarm')\n",
    "plt.title('Correlation Matrix')\n",
    "plt.show()"
   ]
  },
  {
   "cell_type": "code",
   "execution_count": null,
   "metadata": {},
   "outputs": [],
   "source": [
    "# Correlation heatmap\n",
    "plt.figure(figsize=(12, 8))\n",
    "sns.heatmap(kondisi.corr(), annot=True, cmap='coolwarm')\n",
    "plt.title('Correlation Matrix')\n",
    "plt.show()"
   ]
  },
  {
   "cell_type": "code",
   "execution_count": null,
   "metadata": {},
   "outputs": [],
   "source": [
    "# MemVerifikasi nama kolom di data frame\n",
    "print(scores.columns)"
   ]
  },
  {
   "cell_type": "code",
   "execution_count": null,
   "metadata": {},
   "outputs": [],
   "source": [
    "print(kondisi.columns)"
   ]
  },
  {
   "cell_type": "code",
   "execution_count": null,
   "metadata": {},
   "outputs": [],
   "source": [
    "X = scores.drop('inpatient', axis=1)\n",
    "y = scores['inpatient']\n"
   ]
  },
  {
   "cell_type": "code",
   "execution_count": null,
   "metadata": {},
   "outputs": [],
   "source": [
    "X_train, X_test, y_train, y_test = train_test_split(X, y, test_size=0.2, random_state=42)\n",
    "\n",
    "\n",
    "print(X_train.dtypes)\n",
    "print(X_train.isnull().sum())\n"
   ]
  },
  {
   "cell_type": "code",
   "execution_count": null,
   "metadata": {},
   "outputs": [],
   "source": [
    "# Ensure shapes of the training and test sets\n",
    "print(X_train.shape, X_test.shape, y_train.shape, y_test.shape)"
   ]
  },
  {
   "cell_type": "code",
   "execution_count": null,
   "metadata": {},
   "outputs": [],
   "source": [
    "# Import the necessary library\n",
    "from sklearn.model_selection import train_test_split\n",
    "\n",
    "# Split the data into training and testing sets\n",
    "X_train, X_test, y_train, y_test = train_test_split(X, y, test_size=0.2, random_state=42)\n",
    "\n",
    "# Random Forest\n",
    "rf = RandomForestClassifier()\n",
    "rf.fit(X_train, y_train)\n",
    "y_pred_rf = rf.predict(X_test)"
   ]
  },
  {
   "cell_type": "code",
   "execution_count": null,
   "metadata": {},
   "outputs": [],
   "source": [
    "# Model Evaluation\n",
    "models = {\n",
    "    'Random Forest': y_pred_rf\n",
    "}"
   ]
  },
  {
   "cell_type": "code",
   "execution_count": null,
   "metadata": {},
   "outputs": [],
   "source": [
    "for model_name, y_pred in models.items():\n",
    "    print(f\"{model_name}:\")\n",
    "    print(\"Accuracy:\", accuracy_score(y_test, y_pred))\n",
    "    print(\"Precision:\", precision_score(y_test, y_pred))\n",
    "    print(\"Recall:\", recall_score(y_test, y_pred))\n",
    "    print(\"F1 Score:\", f1_score(y_test, y_pred))\n",
    "    print(\"Confusion Matrix:\\n\", confusion_matrix(y_test, y_pred))\n",
    "    print(\"Classification Report:\\n\", classification_report(y_test, y_pred))\n",
    "    print(\"\\n\")"
   ]
  },
  {
   "cell_type": "code",
   "execution_count": null,
   "metadata": {},
   "outputs": [],
   "source": [
    "\n",
    "# Cross-validation for model validation\n",
    "cv_scores = cross_val_score(rf, X, y, cv=5)\n",
    "print(\"Cross-Validation Scores (Random Forest):\", cv_scores)\n",
    "print(\"Mean CV Score (Random Forest):\", np.mean(cv_scores))"
   ]
  }
 ],
 "metadata": {
  "language_info": {
   "name": "python"
  }
 },
 "nbformat": 4,
 "nbformat_minor": 2
}
